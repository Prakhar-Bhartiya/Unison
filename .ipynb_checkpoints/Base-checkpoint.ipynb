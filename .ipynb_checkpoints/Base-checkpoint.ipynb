{
 "cells": [
  {
   "cell_type": "markdown",
   "id": "740047d2",
   "metadata": {},
   "source": [
    "## MNIST"
   ]
  },
  {
   "cell_type": "code",
   "execution_count": 30,
   "id": "30ae457b",
   "metadata": {
    "scrolled": true
   },
   "outputs": [
    {
     "name": "stdout",
     "output_type": "stream",
     "text": [
      "(60000, 784)\n",
      "(30000, 784)\n",
      "(30000, 784)\n",
      "(60000,)\n",
      "(30000,)\n",
      "(30000,)\n"
     ]
    }
   ],
   "source": [
    "##############################\n",
    "###DNN in TensorFlow KeRas ###\n",
    "##############################\n",
    "###1. Load Data and Splot Data\n",
    "from keras.datasets import mnist\n",
    "from keras.models import Sequential \n",
    "from keras.layers.core import Dense, Activation\n",
    "from keras.utils import np_utils\n",
    " \n",
    "(X_train, Y_train), (X_test, Y_test) = mnist.load_data()\n",
    " \n",
    "###2.Preprocess\n",
    "X_train = X_train.reshape(60000, 784)\n",
    "X_train = X_train.astype('float32')\n",
    "X_train /= 255 \n",
    "\n",
    "X1_train = X_train[:30000]\n",
    "X2_train = X_train[30000:]\n",
    "\n",
    "print(X_train.shape)\n",
    "print(X1_train.shape)\n",
    "print(X2_train.shape)\n",
    "# X_test = X_test.reshape(10000, 784)\n",
    "     \n",
    "# X_test = X_test.astype('float32')     \n",
    "   \n",
    "# X_test /= 255\n",
    "classes = 10\n",
    "\n",
    "Y1_train = Y_train[:30000]\n",
    "Y2_train = Y_train[30000:]\n",
    "\n",
    "print(Y_train.shape)\n",
    "print(Y1_train.shape)\n",
    "print(Y2_train.shape)\n",
    "\n",
    "\n",
    "Y1_train = np_utils.to_categorical(Y1_train, classes)\n",
    "Y2_train = np_utils.to_categorical(Y2_train, classes)\n",
    "# Y_test = np_utils.to_categorical(Y_test, classes)\n"
   ]
  },
  {
   "cell_type": "code",
   "execution_count": 31,
   "id": "5bab1eb3",
   "metadata": {},
   "outputs": [],
   "source": [
    "###3. Set up parameters\n",
    "input_size = 784\n",
    "batch_size = 100    \n",
    "hidden_neurons = 400    \n",
    "epochs = 30"
   ]
  },
  {
   "cell_type": "code",
   "execution_count": 32,
   "id": "a43e258c",
   "metadata": {},
   "outputs": [
    {
     "name": "stdout",
     "output_type": "stream",
     "text": [
      "Epoch 1/30\n",
      " 16/300 [>.............................] - ETA: 1s - loss: 2.3708 - accuracy: 0.0906"
     ]
    },
    {
     "name": "stderr",
     "output_type": "stream",
     "text": [
      "2022-04-26 18:34:36.571509: I tensorflow/core/grappler/optimizers/custom_graph_optimizer_registry.cc:113] Plugin optimizer for device_type GPU is enabled.\n"
     ]
    },
    {
     "name": "stdout",
     "output_type": "stream",
     "text": [
      "300/300 [==============================] - 2s 6ms/step - loss: 2.3299 - accuracy: 0.1109\n",
      "Epoch 2/30\n",
      "300/300 [==============================] - 2s 6ms/step - loss: 2.2458 - accuracy: 0.1739\n",
      "Epoch 3/30\n",
      "300/300 [==============================] - 2s 6ms/step - loss: 2.1649 - accuracy: 0.2619\n",
      "Epoch 4/30\n",
      "300/300 [==============================] - 2s 6ms/step - loss: 2.0876 - accuracy: 0.3515\n",
      "Epoch 5/30\n",
      "300/300 [==============================] - 2s 6ms/step - loss: 2.0133 - accuracy: 0.4313\n",
      "Epoch 6/30\n",
      "300/300 [==============================] - 2s 6ms/step - loss: 1.9418 - accuracy: 0.5005\n",
      "Epoch 7/30\n",
      "300/300 [==============================] - 2s 6ms/step - loss: 1.8733 - accuracy: 0.5624\n",
      "Epoch 8/30\n",
      "300/300 [==============================] - 2s 6ms/step - loss: 1.8077 - accuracy: 0.6091\n",
      "Epoch 9/30\n",
      "300/300 [==============================] - 2s 6ms/step - loss: 1.7448 - accuracy: 0.6457\n",
      "Epoch 10/30\n",
      "300/300 [==============================] - 2s 6ms/step - loss: 1.6842 - accuracy: 0.6734\n",
      "Epoch 11/30\n",
      "300/300 [==============================] - 2s 6ms/step - loss: 1.6258 - accuracy: 0.6942\n",
      "Epoch 12/30\n",
      "300/300 [==============================] - 2s 6ms/step - loss: 1.5699 - accuracy: 0.7123\n",
      "Epoch 13/30\n",
      "300/300 [==============================] - 2s 6ms/step - loss: 1.5162 - accuracy: 0.7268\n",
      "Epoch 14/30\n",
      "300/300 [==============================] - 2s 6ms/step - loss: 1.4648 - accuracy: 0.7407\n",
      "Epoch 15/30\n",
      "300/300 [==============================] - 2s 6ms/step - loss: 1.4157 - accuracy: 0.7536\n",
      "Epoch 16/30\n",
      "300/300 [==============================] - 2s 6ms/step - loss: 1.3687 - accuracy: 0.7632\n",
      "Epoch 17/30\n",
      "300/300 [==============================] - 2s 6ms/step - loss: 1.3240 - accuracy: 0.7727\n",
      "Epoch 18/30\n",
      "300/300 [==============================] - 2s 6ms/step - loss: 1.2813 - accuracy: 0.7806\n",
      "Epoch 19/30\n",
      "300/300 [==============================] - 2s 6ms/step - loss: 1.2408 - accuracy: 0.7874\n",
      "Epoch 20/30\n",
      "300/300 [==============================] - 2s 6ms/step - loss: 1.2023 - accuracy: 0.7929\n",
      "Epoch 21/30\n",
      "300/300 [==============================] - 2s 6ms/step - loss: 1.1658 - accuracy: 0.7980\n",
      "Epoch 22/30\n",
      "300/300 [==============================] - 2s 6ms/step - loss: 1.1312 - accuracy: 0.8037\n",
      "Epoch 23/30\n",
      "300/300 [==============================] - 2s 6ms/step - loss: 1.0984 - accuracy: 0.8078\n",
      "Epoch 24/30\n",
      "300/300 [==============================] - 2s 6ms/step - loss: 1.0674 - accuracy: 0.8116\n",
      "Epoch 25/30\n",
      "300/300 [==============================] - 2s 6ms/step - loss: 1.0381 - accuracy: 0.8159\n",
      "Epoch 26/30\n",
      "300/300 [==============================] - 2s 6ms/step - loss: 1.0103 - accuracy: 0.8191\n",
      "Epoch 27/30\n",
      "300/300 [==============================] - 2s 6ms/step - loss: 0.9840 - accuracy: 0.8226\n",
      "Epoch 28/30\n",
      "300/300 [==============================] - 2s 6ms/step - loss: 0.9591 - accuracy: 0.8252\n",
      "Epoch 29/30\n",
      "300/300 [==============================] - 2s 6ms/step - loss: 0.9355 - accuracy: 0.8280\n",
      "Epoch 30/30\n",
      "300/300 [==============================] - 2s 6ms/step - loss: 0.9132 - accuracy: 0.8311\n"
     ]
    },
    {
     "data": {
      "text/plain": [
       "<keras.callbacks.History at 0x28bc44af0>"
      ]
     },
     "execution_count": 32,
     "metadata": {},
     "output_type": "execute_result"
    }
   ],
   "source": [
    "#MODEL1\n",
    " \n",
    "###4.Build the model\n",
    "model1 = Sequential()     \n",
    "model1.add(Dense(hidden_neurons, input_dim=input_size)) \n",
    "model1.add(Activation('relu'))     \n",
    "model1.add(Dense(classes, input_dim=hidden_neurons)) \n",
    "model1.add(Activation('softmax'))\n",
    " \n",
    "model1.compile(loss='categorical_crossentropy', \n",
    "    metrics=['accuracy'], optimizer='adadelta')\n",
    "model1.fit(X1_train, Y1_train, batch_size=batch_size, epochs=epochs, verbose=1)\n",
    " \n",
    "###5.Test \n",
    "# score = model.evaluate(X_test, Y_test, verbose=1)\n",
    "# print('\\n''Test accuracy:', score[1]) \n",
    "#Test accuracy: 0.983"
   ]
  },
  {
   "cell_type": "code",
   "execution_count": 33,
   "id": "1cd28dfd",
   "metadata": {},
   "outputs": [
    {
     "name": "stdout",
     "output_type": "stream",
     "text": [
      "Epoch 1/30\n",
      " 19/300 [>.............................] - ETA: 1s - loss: 2.3682 - accuracy: 0.1021"
     ]
    },
    {
     "name": "stderr",
     "output_type": "stream",
     "text": [
      "2022-04-26 18:35:27.910147: I tensorflow/core/grappler/optimizers/custom_graph_optimizer_registry.cc:113] Plugin optimizer for device_type GPU is enabled.\n"
     ]
    },
    {
     "name": "stdout",
     "output_type": "stream",
     "text": [
      "300/300 [==============================] - 2s 6ms/step - loss: 2.3330 - accuracy: 0.1081\n",
      "Epoch 2/30\n",
      "300/300 [==============================] - 2s 6ms/step - loss: 2.2511 - accuracy: 0.1648\n",
      "Epoch 3/30\n",
      "300/300 [==============================] - 2s 6ms/step - loss: 2.1715 - accuracy: 0.2499\n",
      "Epoch 4/30\n",
      "300/300 [==============================] - 2s 6ms/step - loss: 2.0949 - accuracy: 0.3406\n",
      "Epoch 5/30\n",
      "300/300 [==============================] - 2s 6ms/step - loss: 2.0212 - accuracy: 0.4222\n",
      "Epoch 6/30\n",
      "300/300 [==============================] - 2s 6ms/step - loss: 1.9504 - accuracy: 0.4961\n",
      "Epoch 7/30\n",
      "300/300 [==============================] - 2s 6ms/step - loss: 1.8825 - accuracy: 0.5605\n",
      "Epoch 8/30\n",
      "300/300 [==============================] - 2s 6ms/step - loss: 1.8174 - accuracy: 0.6061\n",
      "Epoch 9/30\n",
      "300/300 [==============================] - 2s 6ms/step - loss: 1.7547 - accuracy: 0.6403\n",
      "Epoch 10/30\n",
      "300/300 [==============================] - 2s 6ms/step - loss: 1.6944 - accuracy: 0.6677\n",
      "Epoch 11/30\n",
      "300/300 [==============================] - 2s 6ms/step - loss: 1.6363 - accuracy: 0.6904\n",
      "Epoch 12/30\n",
      "300/300 [==============================] - 2s 6ms/step - loss: 1.5804 - accuracy: 0.7088\n",
      "Epoch 13/30\n",
      "300/300 [==============================] - 7s 22ms/step - loss: 1.5304 - accuracy: 0.7225\n",
      "Epoch 14/30\n",
      "300/300 [==============================] - 2s 6ms/step - loss: 1.4759 - accuracy: 0.7388\n",
      "Epoch 15/30\n",
      "300/300 [==============================] - 2s 6ms/step - loss: 1.4267 - accuracy: 0.7505\n",
      "Epoch 16/30\n",
      "300/300 [==============================] - 2s 6ms/step - loss: 1.3798 - accuracy: 0.7610\n",
      "Epoch 17/30\n",
      "300/300 [==============================] - 2s 6ms/step - loss: 1.3347 - accuracy: 0.7703\n",
      "Epoch 18/30\n",
      "300/300 [==============================] - 2s 6ms/step - loss: 1.2916 - accuracy: 0.7775\n",
      "Epoch 19/30\n",
      "300/300 [==============================] - 2s 6ms/step - loss: 1.2504 - accuracy: 0.7848\n",
      "Epoch 20/30\n",
      "300/300 [==============================] - 2s 6ms/step - loss: 1.2113 - accuracy: 0.7909\n",
      "Epoch 21/30\n",
      "300/300 [==============================] - 2s 6ms/step - loss: 1.1742 - accuracy: 0.7962\n",
      "Epoch 22/30\n",
      "300/300 [==============================] - 2s 6ms/step - loss: 1.1390 - accuracy: 0.8014\n",
      "Epoch 23/30\n",
      "300/300 [==============================] - 2s 6ms/step - loss: 1.1056 - accuracy: 0.8061\n",
      "Epoch 24/30\n",
      "300/300 [==============================] - 2s 6ms/step - loss: 1.0740 - accuracy: 0.8104\n",
      "Epoch 25/30\n",
      "300/300 [==============================] - 2s 6ms/step - loss: 1.0441 - accuracy: 0.8139\n",
      "Epoch 26/30\n",
      "300/300 [==============================] - 2s 6ms/step - loss: 1.0158 - accuracy: 0.8172\n",
      "Epoch 27/30\n",
      "300/300 [==============================] - 2s 6ms/step - loss: 0.9890 - accuracy: 0.8211\n",
      "Epoch 28/30\n",
      "300/300 [==============================] - 2s 6ms/step - loss: 0.9637 - accuracy: 0.8234\n",
      "Epoch 29/30\n",
      "300/300 [==============================] - 2s 6ms/step - loss: 0.9398 - accuracy: 0.8260\n",
      "Epoch 30/30\n",
      "300/300 [==============================] - 2s 6ms/step - loss: 0.9172 - accuracy: 0.8286\n"
     ]
    },
    {
     "data": {
      "text/plain": [
       "<keras.callbacks.History at 0x296169a00>"
      ]
     },
     "execution_count": 33,
     "metadata": {},
     "output_type": "execute_result"
    }
   ],
   "source": [
    "#MODEL2\n",
    " \n",
    "###4.Build the model\n",
    "model2 = Sequential()     \n",
    "model2.add(Dense(hidden_neurons, input_dim=input_size)) \n",
    "model2.add(Activation('relu'))     \n",
    "model2.add(Dense(classes, input_dim=hidden_neurons)) \n",
    "model2.add(Activation('softmax'))\n",
    " \n",
    "model2.compile(loss='categorical_crossentropy', \n",
    "    metrics=['accuracy'], optimizer='adadelta')\n",
    "model2.fit(X2_train, Y2_train, batch_size=batch_size, epochs=epochs, verbose=1)"
   ]
  },
  {
   "cell_type": "code",
   "execution_count": 53,
   "id": "f9f34f8c",
   "metadata": {},
   "outputs": [],
   "source": [
    "#Model1_weights\n",
    "weights1=list()\n",
    "for layer in model1.layers:\n",
    "    weights1.append(layer.get_weights())"
   ]
  },
  {
   "cell_type": "code",
   "execution_count": 54,
   "id": "35dffdb0",
   "metadata": {},
   "outputs": [],
   "source": [
    "#Model2_weights\n",
    "weights2=list()\n",
    "for layer in model2.layers:\n",
    "    weights2.append(layer.get_weights())"
   ]
  },
  {
   "cell_type": "markdown",
   "id": "c03291cf",
   "metadata": {},
   "source": [
    "## Fashion MNIST"
   ]
  },
  {
   "cell_type": "code",
   "execution_count": 66,
   "id": "fb0079a6",
   "metadata": {},
   "outputs": [
    {
     "name": "stdout",
     "output_type": "stream",
     "text": [
      "(60000, 784)\n",
      "(30000, 784)\n",
      "(30000, 784)\n",
      "(60000,)\n",
      "(30000,)\n",
      "(30000,)\n"
     ]
    }
   ],
   "source": [
    "##############################\n",
    "###DNN in TensorFlow KeRas ###\n",
    "##############################\n",
    "###1. Load Data and Splot Data\n",
    "from keras.datasets import fashion_mnist\n",
    "from keras.models import Sequential \n",
    "from keras.layers.core import Dense, Activation\n",
    "from keras.utils import np_utils\n",
    " \n",
    "(X_train, Y_train), (X_test, Y_test) = fashion_mnist.load_data()\n",
    " \n",
    "###2.Preprocess\n",
    "X_train = X_train.reshape(60000, 784)\n",
    "X_train = X_train.astype('float32')\n",
    "X_train /= 255 \n",
    "\n",
    "X1_train = X_train[:30000]\n",
    "X2_train = X_train[30000:]\n",
    "\n",
    "print(X_train.shape)\n",
    "print(X1_train.shape)\n",
    "print(X2_train.shape)\n",
    "# X_test = X_test.reshape(10000, 784)\n",
    "     \n",
    "# X_test = X_test.astype('float32')     \n",
    "   \n",
    "# X_test /= 255\n",
    "classes = 10\n",
    "\n",
    "Y1_train = Y_train[:30000]\n",
    "Y2_train = Y_train[30000:]\n",
    "\n",
    "print(Y_train.shape)\n",
    "print(Y1_train.shape)\n",
    "print(Y2_train.shape)\n",
    "\n",
    "\n",
    "Y1_train = np_utils.to_categorical(Y1_train, classes)\n",
    "Y2_train = np_utils.to_categorical(Y2_train, classes)\n",
    "# Y_test = np_utils.to_categorical(Y_test, classes)\n",
    "\n"
   ]
  },
  {
   "cell_type": "code",
   "execution_count": 67,
   "id": "a990ea7a",
   "metadata": {},
   "outputs": [],
   "source": [
    "###3. Set up parameters\n",
    "input_size = 784\n",
    "batch_size = 100    \n",
    "hidden_neurons = 400    \n",
    "epochs = 30"
   ]
  },
  {
   "cell_type": "code",
   "execution_count": 68,
   "id": "d012cd59",
   "metadata": {},
   "outputs": [
    {
     "name": "stdout",
     "output_type": "stream",
     "text": [
      "Epoch 1/30\n",
      " 17/300 [>.............................] - ETA: 1s - loss: 2.4034 - accuracy: 0.0818"
     ]
    },
    {
     "name": "stderr",
     "output_type": "stream",
     "text": [
      "2022-04-26 19:53:29.235563: I tensorflow/core/grappler/optimizers/custom_graph_optimizer_registry.cc:113] Plugin optimizer for device_type GPU is enabled.\n"
     ]
    },
    {
     "name": "stdout",
     "output_type": "stream",
     "text": [
      "300/300 [==============================] - 2s 6ms/step - loss: 2.2935 - accuracy: 0.1532\n",
      "Epoch 2/30\n",
      "300/300 [==============================] - 2s 6ms/step - loss: 2.1054 - accuracy: 0.3107\n",
      "Epoch 3/30\n",
      "300/300 [==============================] - 2s 6ms/step - loss: 1.9450 - accuracy: 0.4199\n",
      "Epoch 4/30\n",
      "300/300 [==============================] - 2s 6ms/step - loss: 1.8047 - accuracy: 0.5235\n",
      "Epoch 5/30\n",
      "300/300 [==============================] - 2s 6ms/step - loss: 1.6829 - accuracy: 0.5902\n",
      "Epoch 6/30\n",
      "300/300 [==============================] - 2s 6ms/step - loss: 1.5778 - accuracy: 0.6203\n",
      "Epoch 7/30\n",
      "300/300 [==============================] - 2s 6ms/step - loss: 1.4872 - accuracy: 0.6371\n",
      "Epoch 8/30\n",
      "300/300 [==============================] - 2s 6ms/step - loss: 1.4089 - accuracy: 0.6488\n",
      "Epoch 9/30\n",
      "300/300 [==============================] - 2s 6ms/step - loss: 1.3410 - accuracy: 0.6570\n",
      "Epoch 10/30\n",
      "300/300 [==============================] - 2s 6ms/step - loss: 1.2816 - accuracy: 0.6641\n",
      "Epoch 11/30\n",
      "300/300 [==============================] - 2s 6ms/step - loss: 1.2295 - accuracy: 0.6702\n",
      "Epoch 12/30\n",
      "300/300 [==============================] - 2s 6ms/step - loss: 1.1840 - accuracy: 0.6761\n",
      "Epoch 13/30\n",
      "300/300 [==============================] - 2s 6ms/step - loss: 1.1441 - accuracy: 0.6813\n",
      "Epoch 14/30\n",
      "300/300 [==============================] - 2s 6ms/step - loss: 1.1085 - accuracy: 0.6872\n",
      "Epoch 15/30\n",
      "300/300 [==============================] - 2s 6ms/step - loss: 1.0769 - accuracy: 0.6928\n",
      "Epoch 16/30\n",
      "300/300 [==============================] - 2s 6ms/step - loss: 1.0486 - accuracy: 0.6971\n",
      "Epoch 17/30\n",
      "300/300 [==============================] - 2s 6ms/step - loss: 1.0230 - accuracy: 0.7021\n",
      "Epoch 18/30\n",
      "300/300 [==============================] - 2s 6ms/step - loss: 0.9999 - accuracy: 0.7067\n",
      "Epoch 19/30\n",
      "300/300 [==============================] - 2s 6ms/step - loss: 0.9790 - accuracy: 0.7105\n",
      "Epoch 20/30\n",
      "300/300 [==============================] - 2s 6ms/step - loss: 0.9599 - accuracy: 0.7143\n",
      "Epoch 21/30\n",
      "300/300 [==============================] - 2s 6ms/step - loss: 0.9421 - accuracy: 0.7185\n",
      "Epoch 22/30\n",
      "300/300 [==============================] - 2s 6ms/step - loss: 0.9258 - accuracy: 0.7234\n",
      "Epoch 23/30\n",
      "300/300 [==============================] - 2s 6ms/step - loss: 0.9108 - accuracy: 0.7273\n",
      "Epoch 24/30\n",
      "300/300 [==============================] - 2s 6ms/step - loss: 0.8969 - accuracy: 0.7292\n",
      "Epoch 25/30\n",
      "300/300 [==============================] - 2s 6ms/step - loss: 0.8840 - accuracy: 0.7328\n",
      "Epoch 26/30\n",
      "300/300 [==============================] - 2s 6ms/step - loss: 0.8719 - accuracy: 0.7361\n",
      "Epoch 27/30\n",
      "300/300 [==============================] - 2s 6ms/step - loss: 0.8606 - accuracy: 0.7383\n",
      "Epoch 28/30\n",
      "300/300 [==============================] - 2s 6ms/step - loss: 0.8500 - accuracy: 0.7413\n",
      "Epoch 29/30\n",
      "300/300 [==============================] - 2s 6ms/step - loss: 0.8401 - accuracy: 0.7436\n",
      "Epoch 30/30\n",
      "300/300 [==============================] - 2s 6ms/step - loss: 0.8307 - accuracy: 0.7460\n"
     ]
    },
    {
     "data": {
      "text/plain": [
       "<keras.callbacks.History at 0x2c5743b20>"
      ]
     },
     "execution_count": 68,
     "metadata": {},
     "output_type": "execute_result"
    }
   ],
   "source": [
    "#MODEL1\n",
    " \n",
    "###4.Build the model\n",
    "model1 = Sequential()     \n",
    "model1.add(Dense(hidden_neurons, input_dim=input_size)) \n",
    "model1.add(Activation('relu'))     \n",
    "model1.add(Dense(classes, input_dim=hidden_neurons)) \n",
    "model1.add(Activation('softmax'))\n",
    " \n",
    "model1.compile(loss='categorical_crossentropy', \n",
    "    metrics=['accuracy'], optimizer='adadelta')\n",
    "model1.fit(X1_train, Y1_train, batch_size=batch_size, epochs=epochs, verbose=1)\n",
    " \n",
    "###5.Test \n",
    "# score = model.evaluate(X_test, Y_test, verbose=1)\n",
    "# print('\\n''Test accuracy:', score[1]) \n",
    "#Test accuracy: 0.983"
   ]
  },
  {
   "cell_type": "code",
   "execution_count": 69,
   "id": "eae68151",
   "metadata": {},
   "outputs": [
    {
     "name": "stdout",
     "output_type": "stream",
     "text": [
      "Epoch 1/30\n",
      " 19/300 [>.............................] - ETA: 1s - loss: 2.3907 - accuracy: 0.0774"
     ]
    },
    {
     "name": "stderr",
     "output_type": "stream",
     "text": [
      "2022-04-26 19:54:21.654977: I tensorflow/core/grappler/optimizers/custom_graph_optimizer_registry.cc:113] Plugin optimizer for device_type GPU is enabled.\n"
     ]
    },
    {
     "name": "stdout",
     "output_type": "stream",
     "text": [
      "300/300 [==============================] - 2s 6ms/step - loss: 2.2900 - accuracy: 0.1499\n",
      "Epoch 2/30\n",
      "300/300 [==============================] - 2s 6ms/step - loss: 2.0970 - accuracy: 0.3198\n",
      "Epoch 3/30\n",
      "300/300 [==============================] - 2s 6ms/step - loss: 1.9349 - accuracy: 0.4411\n",
      "Epoch 4/30\n",
      "300/300 [==============================] - 2s 6ms/step - loss: 1.7945 - accuracy: 0.5365\n",
      "Epoch 5/30\n",
      "300/300 [==============================] - 2s 6ms/step - loss: 1.6727 - accuracy: 0.5989\n",
      "Epoch 6/30\n",
      "300/300 [==============================] - 2s 6ms/step - loss: 1.5670 - accuracy: 0.6268\n",
      "Epoch 7/30\n",
      "300/300 [==============================] - 2s 6ms/step - loss: 1.4756 - accuracy: 0.6441\n",
      "Epoch 8/30\n",
      "300/300 [==============================] - 2s 6ms/step - loss: 1.3966 - accuracy: 0.6558\n",
      "Epoch 9/30\n",
      "300/300 [==============================] - 2s 6ms/step - loss: 1.3281 - accuracy: 0.6623\n",
      "Epoch 10/30\n",
      "300/300 [==============================] - 2s 6ms/step - loss: 1.2687 - accuracy: 0.6694\n",
      "Epoch 11/30\n",
      "300/300 [==============================] - 2s 6ms/step - loss: 1.2171 - accuracy: 0.6757\n",
      "Epoch 12/30\n",
      "300/300 [==============================] - 2s 6ms/step - loss: 1.1719 - accuracy: 0.6799\n",
      "Epoch 13/30\n",
      "300/300 [==============================] - 2s 6ms/step - loss: 1.1321 - accuracy: 0.6855\n",
      "Epoch 14/30\n",
      "300/300 [==============================] - 2s 6ms/step - loss: 1.0969 - accuracy: 0.6891\n",
      "Epoch 15/30\n",
      "300/300 [==============================] - 2s 6ms/step - loss: 1.0657 - accuracy: 0.6932\n",
      "Epoch 16/30\n",
      "300/300 [==============================] - 2s 6ms/step - loss: 1.0376 - accuracy: 0.6974\n",
      "Epoch 17/30\n",
      "300/300 [==============================] - 2s 6ms/step - loss: 1.0123 - accuracy: 0.7022\n",
      "Epoch 18/30\n",
      "300/300 [==============================] - 2s 6ms/step - loss: 0.9895 - accuracy: 0.7062\n",
      "Epoch 19/30\n",
      "300/300 [==============================] - 2s 6ms/step - loss: 0.9687 - accuracy: 0.7101\n",
      "Epoch 20/30\n",
      "300/300 [==============================] - 2s 6ms/step - loss: 0.9498 - accuracy: 0.7165\n",
      "Epoch 21/30\n",
      "300/300 [==============================] - 2s 6ms/step - loss: 0.9323 - accuracy: 0.7191\n",
      "Epoch 22/30\n",
      "300/300 [==============================] - 2s 6ms/step - loss: 0.9162 - accuracy: 0.7232\n",
      "Epoch 23/30\n",
      "300/300 [==============================] - 2s 6ms/step - loss: 0.9014 - accuracy: 0.7261\n",
      "Epoch 24/30\n",
      "300/300 [==============================] - 2s 6ms/step - loss: 0.8876 - accuracy: 0.7301\n",
      "Epoch 25/30\n",
      "300/300 [==============================] - 2s 6ms/step - loss: 0.8748 - accuracy: 0.7332\n",
      "Epoch 26/30\n",
      "300/300 [==============================] - 2s 6ms/step - loss: 0.8629 - accuracy: 0.7367\n",
      "Epoch 27/30\n",
      "300/300 [==============================] - 2s 6ms/step - loss: 0.8518 - accuracy: 0.7398\n",
      "Epoch 28/30\n",
      "300/300 [==============================] - 2s 6ms/step - loss: 0.8413 - accuracy: 0.7424\n",
      "Epoch 29/30\n",
      "300/300 [==============================] - 2s 6ms/step - loss: 0.8315 - accuracy: 0.7440\n",
      "Epoch 30/30\n",
      "300/300 [==============================] - 2s 6ms/step - loss: 0.8222 - accuracy: 0.7480\n"
     ]
    },
    {
     "data": {
      "text/plain": [
       "<keras.callbacks.History at 0x2b928dbe0>"
      ]
     },
     "execution_count": 69,
     "metadata": {},
     "output_type": "execute_result"
    }
   ],
   "source": [
    "#MODEL2\n",
    " \n",
    "###4.Build the model\n",
    "model2 = Sequential()     \n",
    "model2.add(Dense(hidden_neurons, input_dim=input_size)) \n",
    "model2.add(Activation('relu'))     \n",
    "model2.add(Dense(classes, input_dim=hidden_neurons)) \n",
    "model2.add(Activation('softmax'))\n",
    " \n",
    "model2.compile(loss='categorical_crossentropy', \n",
    "    metrics=['accuracy'], optimizer='adadelta')\n",
    "model2.fit(X2_train, Y2_train, batch_size=batch_size, epochs=epochs, verbose=1)"
   ]
  },
  {
   "cell_type": "code",
   "execution_count": 72,
   "id": "9f7ede8c",
   "metadata": {},
   "outputs": [],
   "source": [
    "#Model1_weights\n",
    "weights_faishon1=list()\n",
    "for layer in model1.layers:\n",
    "    weights_faishon1.append(layer.get_weights())"
   ]
  },
  {
   "cell_type": "code",
   "execution_count": 73,
   "id": "359b8325",
   "metadata": {},
   "outputs": [],
   "source": [
    "#Model1_weights\n",
    "weights_faishon2=list()\n",
    "for layer in model2.layers:\n",
    "    weights_faishon2.append(layer.get_weights())"
   ]
  },
  {
   "cell_type": "markdown",
   "id": "dba42a56",
   "metadata": {},
   "source": [
    "## Analysis"
   ]
  },
  {
   "cell_type": "code",
   "execution_count": 76,
   "id": "4a8f09e9",
   "metadata": {},
   "outputs": [],
   "source": [
    "List1 = weights1[0][0][0]\n",
    "List2 = weights2[0][0][0]"
   ]
  },
  {
   "cell_type": "code",
   "execution_count": 77,
   "id": "0b32bcd1",
   "metadata": {},
   "outputs": [
    {
     "name": "stdout",
     "output_type": "stream",
     "text": [
      "1\n"
     ]
    }
   ],
   "source": [
    "from scipy import spatial\n",
    "result = 1 - spatial.distance.cosine(List1, List2)\n",
    "print(result)"
   ]
  },
  {
   "cell_type": "code",
   "execution_count": 78,
   "id": "2cd0da8a",
   "metadata": {},
   "outputs": [],
   "source": [
    "List1 = weights_faishon1[0][0][0]\n",
    "List2 = weights_faishon1[0][0][0]"
   ]
  },
  {
   "cell_type": "code",
   "execution_count": 79,
   "id": "50227498",
   "metadata": {},
   "outputs": [
    {
     "name": "stdout",
     "output_type": "stream",
     "text": [
      "1\n"
     ]
    }
   ],
   "source": [
    "from scipy import spatial\n",
    "result = 1 - spatial.distance.cosine(List1, List2)\n",
    "print(result)"
   ]
  },
  {
   "cell_type": "code",
   "execution_count": 84,
   "id": "60cba976",
   "metadata": {},
   "outputs": [],
   "source": [
    "List1 = weights_faishon2[0][0][1]\n",
    "List2 = weights2[0][0][1]"
   ]
  },
  {
   "cell_type": "code",
   "execution_count": 85,
   "id": "ca55c631",
   "metadata": {},
   "outputs": [
    {
     "name": "stdout",
     "output_type": "stream",
     "text": [
      "1\n"
     ]
    }
   ],
   "source": [
    "from scipy import spatial\n",
    "result = 1 - spatial.distance.cosine(List1, List2)\n",
    "print(result)"
   ]
  },
  {
   "cell_type": "code",
   "execution_count": null,
   "id": "be27728d",
   "metadata": {},
   "outputs": [],
   "source": []
  },
  {
   "cell_type": "code",
   "execution_count": null,
   "id": "32fe5bef",
   "metadata": {},
   "outputs": [],
   "source": []
  }
 ],
 "metadata": {
  "kernelspec": {
   "display_name": "Python 3 (ipykernel)",
   "language": "python",
   "name": "python3"
  },
  "language_info": {
   "codemirror_mode": {
    "name": "ipython",
    "version": 3
   },
   "file_extension": ".py",
   "mimetype": "text/x-python",
   "name": "python",
   "nbconvert_exporter": "python",
   "pygments_lexer": "ipython3",
   "version": "3.9.0"
  }
 },
 "nbformat": 4,
 "nbformat_minor": 5
}
